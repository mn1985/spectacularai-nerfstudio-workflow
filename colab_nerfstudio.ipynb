{
 "cells": [
  {
   "cell_type": "markdown",
   "id": "726d1f9e",
   "metadata": {},
   "source": [
    "# oak-d × spectacularAI × nerfstudio Google Colab ワークフロー\n",
    "\n",
    "このノートブックは、oak-dで撮影したデータ（spectacularAI形式）をGoogle Colabにアップロードし、nerfstudioで学習・可視化・ダウンロードするまでの一連の手順をまとめたものです。\n",
    "\n",
    "---\n",
    "\n",
    "## 概要\n",
    "1. Colab環境セットアップ\n",
    "2. データアップロード\n",
    "3. nerfstudioインストール\n",
    "4. spectacularAIデータをnerfstudio用に変換（必要なら）\n",
    "5. nerfstudioで学習\n",
    "6. 結果ダウンロード\n"
   ]
  },
  {
   "cell_type": "code",
   "execution_count": null,
   "id": "779981cb",
   "metadata": {},
   "outputs": [],
   "source": [
    "# 1. Colab環境セットアップ\n",
    "!python --version\n",
    "!nvidia-smi  # GPU確認\n",
    "!pip install --upgrade pip\n",
    "\n",
    "# GPU対応PyTorchのインストール\n",
    "!pip install torch torchvision torchaudio --index-url https://download.pytorch.org/whl/cu118\n",
    "!pip install nerfstudio\n",
    "\n",
    "# GPU利用可能性をチェック\n",
    "import torch\n",
    "print(f\"CUDA available: {torch.cuda.is_available()}\")\n",
    "if torch.cuda.is_available():\n",
    "    print(f\"GPU device: {torch.cuda.get_device_name(0)}\")\n",
    "    print(f\"CUDA version: {torch.version.cuda}\")"
   ]
  },
  {
   "cell_type": "code",
   "execution_count": null,
   "id": "5fb7e655",
   "metadata": {},
   "outputs": [],
   "source": [
    "# 2. データをGoogle Colabにアップロード\n",
    "# processed/ フォルダをzipファイルにしてアップロードしてください\n",
    "# ローカルで: processed フォルダを右クリック → 圧縮 → processed.zip\n",
    "\n",
    "from google.colab import files\n",
    "import zipfile\n",
    "import os\n",
    "\n",
    "# zipファイルをアップロード\n",
    "print(\"processed.zip ファイルをアップロードしてください（NerfStudio形式のデータ）\")\n",
    "uploaded = files.upload()\n",
    "\n",
    "# zipファイルを展開\n",
    "for filename in uploaded.keys():\n",
    "    if filename.endswith('.zip'):\n",
    "        with zipfile.ZipFile(filename, 'r') as zip_ref:\n",
    "            zip_ref.extractall('.')\n",
    "        print(f\"{filename} を展開しました\")\n",
    "        os.remove(filename)  # zipファイルを削除\n",
    "\n",
    "# アップロードされたディレクトリ構造を確認\n",
    "!ls -la"
   ]
  },
  {
   "cell_type": "code",
   "execution_count": null,
   "id": "86949505",
   "metadata": {},
   "outputs": [],
   "source": [
    "# nerfstudioのインストール確認（セル1で既にインストール済み）\n",
    "import nerfstudio\n",
    "print('nerfstudio version:', nerfstudio.__version__)\n",
    "\n",
    "# nerfstudioのコマンドが使用可能か確認\n",
    "!ns-train --help | head -5"
   ]
  },
  {
   "cell_type": "code",
   "execution_count": null,
   "id": "4511df05",
   "metadata": {},
   "outputs": [],
   "source": [
    "# 3. アップロードしたデータの確認\n",
    "# processed.zipを展開済みなので、NerfStudio形式データを確認\n",
    "print(\"アップロードされたデータ構造:\")\n",
    "!find processed -type f | head -20\n",
    "\n",
    "# transforms.jsonの存在確認\n",
    "import os\n",
    "if os.path.exists('processed/transforms.json'):\n",
    "    print(\"✓ transforms.json が見つかりました\")\n",
    "else:\n",
    "    print(\"✗ transforms.json が見つかりません\")\n",
    "\n",
    "# 画像フォルダの確認\n",
    "if os.path.exists('processed/images'):\n",
    "    image_count = len([f for f in os.listdir('processed/images') if f.endswith('.jpg')])\n",
    "    print(f\"✓ 画像フォルダに {image_count} 枚の画像があります\")\n",
    "else:\n",
    "    print(\"✗ images フォルダが見つかりません\")"
   ]
  },
  {
   "cell_type": "code",
   "execution_count": null,
   "id": "50ad6ec7",
   "metadata": {},
   "outputs": [],
   "source": [
    "# 4. nerfstudioで学習\n",
    "# processed/ フォルダのデータを使って学習を実行\n",
    "!ns-train nerfacto --data processed/ --output-dir outputs/\n",
    "\n",
    "# 学習が完了すると outputs/ フォルダに結果が保存されます\n",
    "print(\"学習完了後、outputs/ フォルダを確認してください\")"
   ]
  },
  {
   "cell_type": "code",
   "execution_count": null,
   "id": "1cb0f744",
   "metadata": {},
   "outputs": [],
   "source": [
    "# 5. 学習結果のダウンロード\n",
    "from google.colab import files\n",
    "import glob\n",
    "import os\n",
    "\n",
    "# outputs/ ディレクトリ内のファイル構造を確認\n",
    "print(\"学習結果:\")\n",
    "!find outputs -name \"*.ckpt\" -o -name \"*.json\" -o -name \"config.yml\" | head -10\n",
    "\n",
    "# 学習済みモデル（チェックポイント）をダウンロード\n",
    "for file in glob.glob('outputs/**/nerfstudio_models/**/*.ckpt', recursive=True):\n",
    "    if os.path.isfile(file):\n",
    "        print(f\"ダウンロード中: {file}\")\n",
    "        files.download(file)\n",
    "\n",
    "# 設定ファイルもダウンロード\n",
    "for file in glob.glob('outputs/**/config.yml', recursive=True):\n",
    "    if os.path.isfile(file):\n",
    "        print(f\"ダウンロード中: {file}\")\n",
    "        files.download(file)"
   ]
  }
 ],
 "metadata": {
  "language_info": {
   "name": "python"
  }
 },
 "nbformat": 4,
 "nbformat_minor": 5
}
