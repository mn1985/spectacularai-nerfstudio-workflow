{
 "cells": [
  {
   "cell_type": "markdown",
   "id": "726d1f9e",
   "metadata": {},
   "source": [
    "# oak-d × spectacularAI × nerfstudio Google Colab ワークフロー\n",
    "\n",
    "このノートブックは、oak-dで撮影したデータ（spectacularAI形式）をGoogle Colabにアップロードし、nerfstudioで学習・可視化・ダウンロードするまでの一連の手順をまとめたものです。\n",
    "\n",
    "---\n",
    "\n",
    "## 概要\n",
    "1. Colab環境セットアップ\n",
    "2. データアップロード\n",
    "3. nerfstudioインストール\n",
    "4. spectacularAIデータをnerfstudio用に変換（必要なら）\n",
    "5. nerfstudioで学習\n",
    "6. 結果ダウンロード\n"
   ]
  },
  {
   "cell_type": "code",
   "execution_count": null,
   "id": "779981cb",
   "metadata": {},
   "outputs": [],
   "source": [
    "# 1. Colab環境セットアップ\n",
    "!python --version\n",
    "!nvidia-smi  # GPU確認\n",
    "!pip install --upgrade pip\n",
    "\n",
    "# GPU対応PyTorchのインストール\n",
    "!pip install torch torchvision torchaudio --index-url https://download.pytorch.org/whl/cu118\n",
    "!pip install nerfstudio\n",
    "\n",
    "# GPU利用可能性をチェック\n",
    "import torch\n",
    "print(f\"CUDA available: {torch.cuda.is_available()}\")\n",
    "if torch.cuda.is_available():\n",
    "    print(f\"GPU device: {torch.cuda.get_device_name(0)}\")\n",
    "    print(f\"CUDA version: {torch.version.cuda}\")"
   ]
  },
  {
   "cell_type": "code",
   "execution_count": null,
   "id": "5fb7e655",
   "metadata": {},
   "outputs": [],
   "source": [
    "# 2. データをGoogle Colabにアップロード\n",
    "from google.colab import files\n",
    "uploaded = files.upload()\n",
    "# アップロードしたファイルはColabの作業ディレクトリに保存されます。\n"
   ]
  },
  {
   "cell_type": "code",
   "execution_count": null,
   "id": "86949505",
   "metadata": {},
   "outputs": [],
   "source": [
    "# 3. nerfstudioのインストール確認\n",
    "import nerfstudio\n",
    "print('nerfstudio version:', nerfstudio.__version__)\n"
   ]
  },
  {
   "cell_type": "code",
   "execution_count": null,
   "id": "4511df05",
   "metadata": {},
   "outputs": [],
   "source": [
    "# 4. spectacularAIデータをnerfstudio用に変換（必要な場合のみ）\n",
    "# 変換スクリプト例（仮）\n",
    "# !python convert_spectacularai_to_nerfstudio.py --input data/processed/ --output nerfstudio_data/\n",
    "# 変換が不要な場合はこのセルをスキップしてください。\n"
   ]
  },
  {
   "cell_type": "code",
   "execution_count": null,
   "id": "ba24b3a9",
   "metadata": {},
   "outputs": [],
   "source": []
  },
  {
   "cell_type": "code",
   "execution_count": null,
   "id": "50ad6ec7",
   "metadata": {},
   "outputs": [],
   "source": [
    "# 5. nerfstudioで学習\n",
    "# 例: nerfstudioのコマンドラインで学習を実行\n",
    "# !ns-train nerfacto --data nerfstudio_data/ --output-dir outputs/\n",
    "# 実際のコマンドやパラメータは公式ドキュメントを参照してください。\n"
   ]
  },
  {
   "cell_type": "code",
   "execution_count": null,
   "id": "1cb0f744",
   "metadata": {},
   "outputs": [],
   "source": [
    "# 6. 学習結果のダウンロード\n",
    "from google.colab import files\n",
    "import glob\n",
    "# 例: outputs/ ディレクトリ内のファイルをすべてダウンロード\n",
    "for file in glob.glob('outputs/**/*', recursive=True):\n",
    "    if not file.endswith('/'):\n",
    "        files.download(file)\n",
    "# 必要に応じて個別ファイル名を指定してダウンロードも可能です。\n"
   ]
  }
 ],
 "metadata": {
  "language_info": {
   "name": "python"
  }
 },
 "nbformat": 4,
 "nbformat_minor": 5
}
